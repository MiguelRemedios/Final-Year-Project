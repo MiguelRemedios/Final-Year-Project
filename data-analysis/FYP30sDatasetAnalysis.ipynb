{
 "cells": [
  {
   "cell_type": "code",
   "execution_count": 1,
   "id": "5009046d",
   "metadata": {},
   "outputs": [],
   "source": [
    "import numpy as np \n",
    "import pandas as pd\n",
    "import matplotlib.pyplot as plt\n",
    "import seaborn as sns\n",
    "from collections import Counter"
   ]
  },
  {
   "cell_type": "code",
   "execution_count": 2,
   "id": "85a99cf3",
   "metadata": {},
   "outputs": [
    {
     "data": {
      "text/html": [
       "<div>\n",
       "<style scoped>\n",
       "    .dataframe tbody tr th:only-of-type {\n",
       "        vertical-align: middle;\n",
       "    }\n",
       "\n",
       "    .dataframe tbody tr th {\n",
       "        vertical-align: top;\n",
       "    }\n",
       "\n",
       "    .dataframe thead th {\n",
       "        text-align: right;\n",
       "    }\n",
       "</style>\n",
       "<table border=\"1\" class=\"dataframe\">\n",
       "  <thead>\n",
       "    <tr style=\"text-align: right;\">\n",
       "      <th></th>\n",
       "      <th>id</th>\n",
       "      <th>dom_pv</th>\n",
       "      <th>ks_kpt</th>\n",
       "      <th>md_bct</th>\n",
       "      <th>md_ct</th>\n",
       "      <th>md_cvt</th>\n",
       "      <th>user_status</th>\n",
       "    </tr>\n",
       "  </thead>\n",
       "  <tbody>\n",
       "    <tr>\n",
       "      <th>0</th>\n",
       "      <td>60</td>\n",
       "      <td>6</td>\n",
       "      <td>8</td>\n",
       "      <td>17</td>\n",
       "      <td>44</td>\n",
       "      <td>7</td>\n",
       "      <td>0</td>\n",
       "    </tr>\n",
       "    <tr>\n",
       "      <th>1</th>\n",
       "      <td>42</td>\n",
       "      <td>6</td>\n",
       "      <td>0</td>\n",
       "      <td>19</td>\n",
       "      <td>41</td>\n",
       "      <td>5</td>\n",
       "      <td>0</td>\n",
       "    </tr>\n",
       "    <tr>\n",
       "      <th>2</th>\n",
       "      <td>28</td>\n",
       "      <td>3</td>\n",
       "      <td>0</td>\n",
       "      <td>3</td>\n",
       "      <td>16</td>\n",
       "      <td>3</td>\n",
       "      <td>1</td>\n",
       "    </tr>\n",
       "    <tr>\n",
       "      <th>3</th>\n",
       "      <td>8</td>\n",
       "      <td>2</td>\n",
       "      <td>0</td>\n",
       "      <td>3</td>\n",
       "      <td>13</td>\n",
       "      <td>0</td>\n",
       "      <td>1</td>\n",
       "    </tr>\n",
       "    <tr>\n",
       "      <th>4</th>\n",
       "      <td>40</td>\n",
       "      <td>5</td>\n",
       "      <td>32</td>\n",
       "      <td>8</td>\n",
       "      <td>40</td>\n",
       "      <td>13</td>\n",
       "      <td>0</td>\n",
       "    </tr>\n",
       "  </tbody>\n",
       "</table>\n",
       "</div>"
      ],
      "text/plain": [
       "   id  dom_pv  ks_kpt  md_bct  md_ct  md_cvt  user_status\n",
       "0  60       6       8      17     44       7            0\n",
       "1  42       6       0      19     41       5            0\n",
       "2  28       3       0       3     16       3            1\n",
       "3   8       2       0       3     13       0            1\n",
       "4  40       5      32       8     40      13            0"
      ]
     },
     "execution_count": 2,
     "metadata": {},
     "output_type": "execute_result"
    }
   ],
   "source": [
    "dataset = pd.read_csv(\"dataset.csv\")\n",
    "dataset.head()"
   ]
  },
  {
   "cell_type": "code",
   "execution_count": 3,
   "id": "23a99624",
   "metadata": {},
   "outputs": [
    {
     "name": "stdout",
     "output_type": "stream",
     "text": [
      "<class 'pandas.core.frame.DataFrame'>\n",
      "RangeIndex: 76 entries, 0 to 75\n",
      "Data columns (total 7 columns):\n",
      " #   Column       Non-Null Count  Dtype\n",
      "---  ------       --------------  -----\n",
      " 0   id           76 non-null     int64\n",
      " 1   dom_pv       76 non-null     int64\n",
      " 2   ks_kpt       76 non-null     int64\n",
      " 3   md_bct       76 non-null     int64\n",
      " 4   md_ct        76 non-null     int64\n",
      " 5   md_cvt       76 non-null     int64\n",
      " 6   user_status  76 non-null     int64\n",
      "dtypes: int64(7)\n",
      "memory usage: 4.3 KB\n"
     ]
    }
   ],
   "source": [
    "dataset.info()"
   ]
  },
  {
   "cell_type": "code",
   "execution_count": 4,
   "id": "f48c6575",
   "metadata": {},
   "outputs": [
    {
     "data": {
      "text/html": [
       "<div>\n",
       "<style scoped>\n",
       "    .dataframe tbody tr th:only-of-type {\n",
       "        vertical-align: middle;\n",
       "    }\n",
       "\n",
       "    .dataframe tbody tr th {\n",
       "        vertical-align: top;\n",
       "    }\n",
       "\n",
       "    .dataframe thead th {\n",
       "        text-align: right;\n",
       "    }\n",
       "</style>\n",
       "<table border=\"1\" class=\"dataframe\">\n",
       "  <thead>\n",
       "    <tr style=\"text-align: right;\">\n",
       "      <th></th>\n",
       "      <th>id</th>\n",
       "      <th>dom_pv</th>\n",
       "      <th>ks_kpt</th>\n",
       "      <th>md_bct</th>\n",
       "      <th>md_ct</th>\n",
       "      <th>md_cvt</th>\n",
       "      <th>user_status</th>\n",
       "    </tr>\n",
       "  </thead>\n",
       "  <tbody>\n",
       "    <tr>\n",
       "      <th>count</th>\n",
       "      <td>76.000000</td>\n",
       "      <td>76.000000</td>\n",
       "      <td>76.000000</td>\n",
       "      <td>76.000000</td>\n",
       "      <td>76.000000</td>\n",
       "      <td>76.000000</td>\n",
       "      <td>76.000000</td>\n",
       "    </tr>\n",
       "    <tr>\n",
       "      <th>mean</th>\n",
       "      <td>38.500000</td>\n",
       "      <td>3.644737</td>\n",
       "      <td>10.973684</td>\n",
       "      <td>8.210526</td>\n",
       "      <td>25.960526</td>\n",
       "      <td>3.381579</td>\n",
       "      <td>0.500000</td>\n",
       "    </tr>\n",
       "    <tr>\n",
       "      <th>std</th>\n",
       "      <td>22.083176</td>\n",
       "      <td>1.984634</td>\n",
       "      <td>10.708220</td>\n",
       "      <td>5.107683</td>\n",
       "      <td>12.649575</td>\n",
       "      <td>2.847067</td>\n",
       "      <td>0.503322</td>\n",
       "    </tr>\n",
       "    <tr>\n",
       "      <th>min</th>\n",
       "      <td>1.000000</td>\n",
       "      <td>0.000000</td>\n",
       "      <td>0.000000</td>\n",
       "      <td>2.000000</td>\n",
       "      <td>9.000000</td>\n",
       "      <td>0.000000</td>\n",
       "      <td>0.000000</td>\n",
       "    </tr>\n",
       "    <tr>\n",
       "      <th>25%</th>\n",
       "      <td>19.750000</td>\n",
       "      <td>2.000000</td>\n",
       "      <td>0.000000</td>\n",
       "      <td>4.000000</td>\n",
       "      <td>14.000000</td>\n",
       "      <td>1.000000</td>\n",
       "      <td>0.000000</td>\n",
       "    </tr>\n",
       "    <tr>\n",
       "      <th>50%</th>\n",
       "      <td>38.500000</td>\n",
       "      <td>3.000000</td>\n",
       "      <td>10.000000</td>\n",
       "      <td>6.500000</td>\n",
       "      <td>24.000000</td>\n",
       "      <td>3.000000</td>\n",
       "      <td>0.500000</td>\n",
       "    </tr>\n",
       "    <tr>\n",
       "      <th>75%</th>\n",
       "      <td>57.250000</td>\n",
       "      <td>5.000000</td>\n",
       "      <td>18.000000</td>\n",
       "      <td>12.000000</td>\n",
       "      <td>37.250000</td>\n",
       "      <td>5.000000</td>\n",
       "      <td>1.000000</td>\n",
       "    </tr>\n",
       "    <tr>\n",
       "      <th>max</th>\n",
       "      <td>76.000000</td>\n",
       "      <td>8.000000</td>\n",
       "      <td>42.000000</td>\n",
       "      <td>20.000000</td>\n",
       "      <td>57.000000</td>\n",
       "      <td>14.000000</td>\n",
       "      <td>1.000000</td>\n",
       "    </tr>\n",
       "  </tbody>\n",
       "</table>\n",
       "</div>"
      ],
      "text/plain": [
       "              id     dom_pv     ks_kpt     md_bct      md_ct     md_cvt  \\\n",
       "count  76.000000  76.000000  76.000000  76.000000  76.000000  76.000000   \n",
       "mean   38.500000   3.644737  10.973684   8.210526  25.960526   3.381579   \n",
       "std    22.083176   1.984634  10.708220   5.107683  12.649575   2.847067   \n",
       "min     1.000000   0.000000   0.000000   2.000000   9.000000   0.000000   \n",
       "25%    19.750000   2.000000   0.000000   4.000000  14.000000   1.000000   \n",
       "50%    38.500000   3.000000  10.000000   6.500000  24.000000   3.000000   \n",
       "75%    57.250000   5.000000  18.000000  12.000000  37.250000   5.000000   \n",
       "max    76.000000   8.000000  42.000000  20.000000  57.000000  14.000000   \n",
       "\n",
       "       user_status  \n",
       "count    76.000000  \n",
       "mean      0.500000  \n",
       "std       0.503322  \n",
       "min       0.000000  \n",
       "25%       0.000000  \n",
       "50%       0.500000  \n",
       "75%       1.000000  \n",
       "max       1.000000  "
      ]
     },
     "execution_count": 4,
     "metadata": {},
     "output_type": "execute_result"
    }
   ],
   "source": [
    "dataset.describe()"
   ]
  },
  {
   "cell_type": "code",
   "execution_count": 5,
   "id": "400eb42c",
   "metadata": {},
   "outputs": [
    {
     "data": {
      "text/plain": [
       "id             False\n",
       "dom_pv         False\n",
       "ks_kpt         False\n",
       "md_bct         False\n",
       "md_ct          False\n",
       "md_cvt         False\n",
       "user_status    False\n",
       "dtype: bool"
      ]
     },
     "execution_count": 5,
     "metadata": {},
     "output_type": "execute_result"
    }
   ],
   "source": [
    "dataset.isnull().all()"
   ]
  },
  {
   "cell_type": "code",
   "execution_count": 6,
   "id": "93b194d0",
   "metadata": {},
   "outputs": [
    {
     "data": {
      "text/html": [
       "<div>\n",
       "<style scoped>\n",
       "    .dataframe tbody tr th:only-of-type {\n",
       "        vertical-align: middle;\n",
       "    }\n",
       "\n",
       "    .dataframe tbody tr th {\n",
       "        vertical-align: top;\n",
       "    }\n",
       "\n",
       "    .dataframe thead th {\n",
       "        text-align: right;\n",
       "    }\n",
       "</style>\n",
       "<table border=\"1\" class=\"dataframe\">\n",
       "  <thead>\n",
       "    <tr style=\"text-align: right;\">\n",
       "      <th></th>\n",
       "      <th>id</th>\n",
       "      <th>dom_pv</th>\n",
       "      <th>ks_kpt</th>\n",
       "      <th>md_bct</th>\n",
       "      <th>md_ct</th>\n",
       "      <th>md_cvt</th>\n",
       "      <th>user_status</th>\n",
       "    </tr>\n",
       "  </thead>\n",
       "  <tbody>\n",
       "    <tr>\n",
       "      <th>id</th>\n",
       "      <td>1.000000</td>\n",
       "      <td>0.763152</td>\n",
       "      <td>0.591192</td>\n",
       "      <td>0.680534</td>\n",
       "      <td>0.794412</td>\n",
       "      <td>0.641194</td>\n",
       "      <td>-0.866100</td>\n",
       "    </tr>\n",
       "    <tr>\n",
       "      <th>dom_pv</th>\n",
       "      <td>0.763152</td>\n",
       "      <td>1.000000</td>\n",
       "      <td>0.519037</td>\n",
       "      <td>0.791413</td>\n",
       "      <td>0.847613</td>\n",
       "      <td>0.585925</td>\n",
       "      <td>-0.834242</td>\n",
       "    </tr>\n",
       "    <tr>\n",
       "      <th>ks_kpt</th>\n",
       "      <td>0.591192</td>\n",
       "      <td>0.519037</td>\n",
       "      <td>1.000000</td>\n",
       "      <td>0.484981</td>\n",
       "      <td>0.577603</td>\n",
       "      <td>0.431993</td>\n",
       "      <td>-0.660521</td>\n",
       "    </tr>\n",
       "    <tr>\n",
       "      <th>md_bct</th>\n",
       "      <td>0.680534</td>\n",
       "      <td>0.791413</td>\n",
       "      <td>0.484981</td>\n",
       "      <td>1.000000</td>\n",
       "      <td>0.881521</td>\n",
       "      <td>0.537201</td>\n",
       "      <td>-0.840202</td>\n",
       "    </tr>\n",
       "    <tr>\n",
       "      <th>md_ct</th>\n",
       "      <td>0.794412</td>\n",
       "      <td>0.847613</td>\n",
       "      <td>0.577603</td>\n",
       "      <td>0.881521</td>\n",
       "      <td>1.000000</td>\n",
       "      <td>0.792704</td>\n",
       "      <td>-0.926680</td>\n",
       "    </tr>\n",
       "    <tr>\n",
       "      <th>md_cvt</th>\n",
       "      <td>0.641194</td>\n",
       "      <td>0.585925</td>\n",
       "      <td>0.431993</td>\n",
       "      <td>0.537201</td>\n",
       "      <td>0.792704</td>\n",
       "      <td>1.000000</td>\n",
       "      <td>-0.739711</td>\n",
       "    </tr>\n",
       "    <tr>\n",
       "      <th>user_status</th>\n",
       "      <td>-0.866100</td>\n",
       "      <td>-0.834242</td>\n",
       "      <td>-0.660521</td>\n",
       "      <td>-0.840202</td>\n",
       "      <td>-0.926680</td>\n",
       "      <td>-0.739711</td>\n",
       "      <td>1.000000</td>\n",
       "    </tr>\n",
       "  </tbody>\n",
       "</table>\n",
       "</div>"
      ],
      "text/plain": [
       "                   id    dom_pv    ks_kpt    md_bct     md_ct    md_cvt  \\\n",
       "id           1.000000  0.763152  0.591192  0.680534  0.794412  0.641194   \n",
       "dom_pv       0.763152  1.000000  0.519037  0.791413  0.847613  0.585925   \n",
       "ks_kpt       0.591192  0.519037  1.000000  0.484981  0.577603  0.431993   \n",
       "md_bct       0.680534  0.791413  0.484981  1.000000  0.881521  0.537201   \n",
       "md_ct        0.794412  0.847613  0.577603  0.881521  1.000000  0.792704   \n",
       "md_cvt       0.641194  0.585925  0.431993  0.537201  0.792704  1.000000   \n",
       "user_status -0.866100 -0.834242 -0.660521 -0.840202 -0.926680 -0.739711   \n",
       "\n",
       "             user_status  \n",
       "id             -0.866100  \n",
       "dom_pv         -0.834242  \n",
       "ks_kpt         -0.660521  \n",
       "md_bct         -0.840202  \n",
       "md_ct          -0.926680  \n",
       "md_cvt         -0.739711  \n",
       "user_status     1.000000  "
      ]
     },
     "execution_count": 6,
     "metadata": {},
     "output_type": "execute_result"
    }
   ],
   "source": [
    "dataset.corr(method='pearson')"
   ]
  },
  {
   "cell_type": "code",
   "execution_count": 7,
   "id": "62b87716",
   "metadata": {},
   "outputs": [
    {
     "data": {
      "image/png": "[encoded data removed]",
      "text/plain": [
       "<Figure size 432x360 with 2 Axes>"
      ]
     },
     "metadata": {
      "needs_background": "light"
     },
     "output_type": "display_data"
    }
   ],
   "source": [
    "f,ax = plt.subplots(figsize=(6, 5))\n",
    "#Heatmap for labels\n",
    "sns.heatmap(dataset.corr(method='pearson'), annot=True, linewidths=0.5,linecolor=\"black\", fmt= '.2f',cmap='viridis',ax=ax)\n",
    "plt.show()"
   ]
  },
  {
   "cell_type": "code",
   "execution_count": 8,
   "id": "ed37c42e",
   "metadata": {},
   "outputs": [],
   "source": [
    "#preparing data\n",
    "# Removing User ID column and its data\n",
    "dataset.drop('id',axis = 1, inplace = True)"
   ]
  },
  {
   "cell_type": "code",
   "execution_count": 9,
   "id": "ffb442f8",
   "metadata": {},
   "outputs": [
    {
     "data": {
      "text/plain": [
       "<AxesSubplot:xlabel='md_bct', ylabel='user_status'>"
      ]
     },
     "execution_count": 9,
     "metadata": {},
     "output_type": "execute_result"
    },
    {
     "data": {
      "image/png": "[encoded data removed]",
      "text/plain": [
       "<Figure size 432x288 with 1 Axes>"
      ]
     },
     "metadata": {
      "needs_background": "light"
     },
     "output_type": "display_data"
    }
   ],
   "source": [
    "# set inputs and outputs\n",
    "#Dataset without correct dependent variable values\n",
    "X = dataset.drop('user_status',axis = 1)     \n",
    "#Dependent variable values\n",
    "y = dataset['user_status']\n",
    "\n",
    "sns.regplot(x=dataset[\"md_bct\"], y=y, data=dataset, logistic=True, ci=None)"
   ]
  },
  {
   "cell_type": "code",
   "execution_count": 10,
   "id": "b078b6c2",
   "metadata": {},
   "outputs": [
    {
     "data": {
      "text/plain": [
       "Text(0.5, 1.0, 'Distribution of keys pressed')"
      ]
     },
     "execution_count": 10,
     "metadata": {},
     "output_type": "execute_result"
    },
    {
     "data": {
      "image/png": "[encoded data removed]",
      "text/plain": [
       "<Figure size 1080x720 with 4 Axes>"
      ]
     },
     "metadata": {
      "needs_background": "light"
     },
     "output_type": "display_data"
    }
   ],
   "source": [
    "# Creating 4 plots\n",
    "fig, axes = plt.subplots(2, 2, figsize=(15, 10))\n",
    "# md_ct Boxplot\n",
    "sns.boxplot(ax=axes[0,0],x= dataset['md_bct'], palette = \"Set1\")\n",
    "axes[0,0].set_title('Total button clicks')\n",
    "# md_ct Histogram\n",
    "sns.histplot(ax=axes[0,1],x='md_bct',data=dataset,color=\"g\")\n",
    "axes[0,1].set_title('Distribution of total button clicks')\n",
    "\n",
    "# ks_kpt Boxplot\n",
    "sns.boxplot(ax=axes[1,0],x = dataset['ks_kpt'])\n",
    "axes[1,0].set_title('Keys pressed')\n",
    "# ks_kpt Histogram\n",
    "sns.histplot(ax=axes[1,1],x='ks_kpt',data=dataset,color=\"y\")\n",
    "axes[1,1].set_title('Distribution of keys pressed')"
   ]
  },
  {
   "cell_type": "code",
   "execution_count": 11,
   "id": "03393237",
   "metadata": {},
   "outputs": [
    {
     "data": {
      "text/html": [
       "<div>\n",
       "<style scoped>\n",
       "    .dataframe tbody tr th:only-of-type {\n",
       "        vertical-align: middle;\n",
       "    }\n",
       "\n",
       "    .dataframe tbody tr th {\n",
       "        vertical-align: top;\n",
       "    }\n",
       "\n",
       "    .dataframe thead th {\n",
       "        text-align: right;\n",
       "    }\n",
       "</style>\n",
       "<table border=\"1\" class=\"dataframe\">\n",
       "  <thead>\n",
       "    <tr style=\"text-align: right;\">\n",
       "      <th></th>\n",
       "      <th>0</th>\n",
       "      <th>1</th>\n",
       "      <th>2</th>\n",
       "      <th>3</th>\n",
       "      <th>4</th>\n",
       "    </tr>\n",
       "  </thead>\n",
       "  <tbody>\n",
       "    <tr>\n",
       "      <th>0</th>\n",
       "      <td>1.194635</td>\n",
       "      <td>-0.279546</td>\n",
       "      <td>1.732268</td>\n",
       "      <td>1.435569</td>\n",
       "      <td>1.279374</td>\n",
       "    </tr>\n",
       "    <tr>\n",
       "      <th>1</th>\n",
       "      <td>1.194635</td>\n",
       "      <td>-1.031600</td>\n",
       "      <td>2.126437</td>\n",
       "      <td>1.196831</td>\n",
       "      <td>0.572229</td>\n",
       "    </tr>\n",
       "    <tr>\n",
       "      <th>2</th>\n",
       "      <td>-0.327023</td>\n",
       "      <td>-1.031600</td>\n",
       "      <td>-1.026913</td>\n",
       "      <td>-0.792652</td>\n",
       "      <td>-0.134916</td>\n",
       "    </tr>\n",
       "    <tr>\n",
       "      <th>3</th>\n",
       "      <td>-0.834242</td>\n",
       "      <td>-1.031600</td>\n",
       "      <td>-1.026913</td>\n",
       "      <td>-1.031390</td>\n",
       "      <td>-1.195633</td>\n",
       "    </tr>\n",
       "    <tr>\n",
       "      <th>4</th>\n",
       "      <td>0.687416</td>\n",
       "      <td>1.976615</td>\n",
       "      <td>-0.041491</td>\n",
       "      <td>1.117252</td>\n",
       "      <td>3.400809</td>\n",
       "    </tr>\n",
       "  </tbody>\n",
       "</table>\n",
       "</div>"
      ],
      "text/plain": [
       "          0         1         2         3         4\n",
       "0  1.194635 -0.279546  1.732268  1.435569  1.279374\n",
       "1  1.194635 -1.031600  2.126437  1.196831  0.572229\n",
       "2 -0.327023 -1.031600 -1.026913 -0.792652 -0.134916\n",
       "3 -0.834242 -1.031600 -1.026913 -1.031390 -1.195633\n",
       "4  0.687416  1.976615 -0.041491  1.117252  3.400809"
      ]
     },
     "execution_count": 11,
     "metadata": {},
     "output_type": "execute_result"
    }
   ],
   "source": [
    "# we have to scale the data for better result\n",
    "\n",
    "from sklearn.preprocessing import StandardScaler\n",
    "\n",
    "scaler = StandardScaler()\n",
    "data_scaled = scaler.fit_transform(X)\n",
    "data_scaled1 = pd.DataFrame(data_scaled)\n",
    "data_scaled1.head()"
   ]
  },
  {
   "cell_type": "code",
   "execution_count": 12,
   "id": "444ec9dc",
   "metadata": {},
   "outputs": [],
   "source": [
    "from sklearn.model_selection import train_test_split\n",
    "\n",
    "X_train,X_test,y_train,y_test = train_test_split(data_scaled,y,test_size=0.30,random_state=42)"
   ]
  },
  {
   "cell_type": "code",
   "execution_count": 13,
   "id": "31c3a2aa",
   "metadata": {},
   "outputs": [],
   "source": [
    "from sklearn.linear_model import LogisticRegression\n",
    "\n",
    "# LR model\n",
    "model = LogisticRegression(C=0.1,max_iter = 500)\n",
    "# LR model training\n",
    "model.fit(X_train,y_train)\n",
    "\n",
    "# LR testing/prediction\n",
    "y_pred = model.predict(X_test)"
   ]
  },
  {
   "cell_type": "code",
   "execution_count": 14,
   "id": "3f4e6d57",
   "metadata": {},
   "outputs": [
    {
     "name": "stdout",
     "output_type": "stream",
     "text": [
      "Weight Coefficient : [[-0.45882883 -0.43075544 -0.50384644 -0.57191246 -0.48917144]]\n",
      "Bias : [-0.11591679]\n"
     ]
    }
   ],
   "source": [
    "# y = B + W*x1...\n",
    "\n",
    "print(f'Weight Coefficient : {model.coef_}')\n",
    "print(f'Bias : {model.intercept_}')"
   ]
  },
  {
   "cell_type": "code",
   "execution_count": 15,
   "id": "f86efd69",
   "metadata": {},
   "outputs": [
    {
     "name": "stdout",
     "output_type": "stream",
     "text": [
      "Test accuracy: 0.9565217391304348\n",
      "Train accuracy: 1.0\n"
     ]
    }
   ],
   "source": [
    "# Accuracy: The amount of correct classifications / the total amount of classifications.\n",
    "# The train accuracy: The accuracy of a model on examples it was constructed on.\n",
    "# The test accuracy is the accuracy of a model on examples it hasn't seen.\n",
    "print(f'Test accuracy: {model.score(X_test,y_test)}')\n",
    "print(f'Train accuracy: {model.score(X_train,y_train)}')"
   ]
  },
  {
   "cell_type": "code",
   "execution_count": 16,
   "id": "a3190433",
   "metadata": {},
   "outputs": [
    {
     "name": "stdout",
     "output_type": "stream",
     "text": [
      "              precision    recall  f1-score   support\n",
      "\n",
      "           0       1.00      0.91      0.95        11\n",
      "           1       0.92      1.00      0.96        12\n",
      "\n",
      "    accuracy                           0.96        23\n",
      "   macro avg       0.96      0.95      0.96        23\n",
      "weighted avg       0.96      0.96      0.96        23\n",
      "\n"
     ]
    }
   ],
   "source": [
    "from sklearn.metrics import classification_report\n",
    "\n",
    "print(classification_report(y_test, y_pred))"
   ]
  },
  {
   "cell_type": "code",
   "execution_count": 17,
   "id": "f65f419f",
   "metadata": {},
   "outputs": [
    {
     "data": {
      "text/html": [
       "<div>\n",
       "<style scoped>\n",
       "    .dataframe tbody tr th:only-of-type {\n",
       "        vertical-align: middle;\n",
       "    }\n",
       "\n",
       "    .dataframe tbody tr th {\n",
       "        vertical-align: top;\n",
       "    }\n",
       "\n",
       "    .dataframe thead th {\n",
       "        text-align: right;\n",
       "    }\n",
       "</style>\n",
       "<table border=\"1\" class=\"dataframe\">\n",
       "  <thead>\n",
       "    <tr style=\"text-align: right;\">\n",
       "      <th></th>\n",
       "      <th>Predicted Positive</th>\n",
       "      <th>Predicted Negative</th>\n",
       "    </tr>\n",
       "  </thead>\n",
       "  <tbody>\n",
       "    <tr>\n",
       "      <th>Actual Positive</th>\n",
       "      <td>10</td>\n",
       "      <td>1</td>\n",
       "    </tr>\n",
       "    <tr>\n",
       "      <th>Actual Negative</th>\n",
       "      <td>0</td>\n",
       "      <td>12</td>\n",
       "    </tr>\n",
       "  </tbody>\n",
       "</table>\n",
       "</div>"
      ],
      "text/plain": [
       "                 Predicted Positive  Predicted Negative\n",
       "Actual Positive                  10                   1\n",
       "Actual Negative                   0                  12"
      ]
     },
     "execution_count": 17,
     "metadata": {},
     "output_type": "execute_result"
    }
   ],
   "source": [
    "from sklearn.metrics import confusion_matrix\n",
    "\n",
    "df = pd.DataFrame(confusion_matrix(y_test, y_pred), columns = ['Predicted Positive', 'Predicted Negative'], \n",
    "                  index=['Actual Positive', 'Actual Negative'])\n",
    "df"
   ]
  },
  {
   "cell_type": "code",
   "execution_count": 18,
   "id": "6eecb0ad",
   "metadata": {},
   "outputs": [
    {
     "data": {
      "image/png": "[encoded data removed]",
      "text/plain": [
       "<Figure size 504x504 with 2 Axes>"
      ]
     },
     "metadata": {
      "needs_background": "light"
     },
     "output_type": "display_data"
    }
   ],
   "source": [
    "# We can visualize the confusion matrix\n",
    "import scikitplot.metrics as splt\n",
    "\n",
    "splt.plot_confusion_matrix(y_test,y_pred,figsize=(7,7))\n",
    "plt.show()"
   ]
  },
  {
   "cell_type": "code",
   "execution_count": 19,
   "id": "0c21a12f",
   "metadata": {},
   "outputs": [
    {
     "name": "stdout",
     "output_type": "stream",
     "text": [
      "Accuracy: 0.9565217391304348\n",
      "Precision: 0.9230769230769231\n",
      "Recall: 1.0\n",
      "F1 Score: 0.9600000000000001\n"
     ]
    }
   ],
   "source": [
    "from sklearn.metrics import accuracy_score, precision_score, recall_score, f1_score\n",
    "\n",
    "print(\"Accuracy:\", accuracy_score(y_test,y_pred))\n",
    "print(\"Precision:\", precision_score(y_test, y_pred, ))\n",
    "print(\"Recall:\", recall_score(y_test,y_pred))\n",
    "print(\"F1 Score:\", f1_score(y_test,y_pred))"
   ]
  },
  {
   "cell_type": "code",
   "execution_count": 20,
   "id": "530ce207",
   "metadata": {},
   "outputs": [
    {
     "data": {
      "image/png": "[encoded data removed]",
      "text/plain": [
       "<Figure size 432x288 with 1 Axes>"
      ]
     },
     "metadata": {
      "needs_background": "light"
     },
     "output_type": "display_data"
    }
   ],
   "source": [
    "# Area Under Curve - AUC\n",
    "import matplotlib.pyplot as plt\n",
    "from sklearn.metrics import roc_auc_score, roc_curve\n",
    "\n",
    "# An ROC curve (receiver operating characteristic curve) is a graph showing the performance of a classification model at all classification thresholds.\n",
    "model_roc_auc = roc_auc_score(y_test, model.predict(X_test))\n",
    "\n",
    "fpr, tpr, thresholds = roc_curve(y_test, model.predict_proba(X_test)[:,1])\n",
    "plt.figure()\n",
    "plt.plot(fpr, tpr, label='AUC (area = %0.2f)' % model_roc_auc)\n",
    "plt.plot([0, 1], [0, 1], 'r--')\n",
    "plt.xlim(([0.0, 1.0]))\n",
    "plt.ylim(([0.0, 1.05]))\n",
    "plt.xlabel('False Positive Rate')\n",
    "plt.ylabel('True Positive Rate')\n",
    "plt.title('ROC')\n",
    "plt.show()"
   ]
  },
  {
   "cell_type": "code",
   "execution_count": 21,
   "id": "e2c7efd6",
   "metadata": {},
   "outputs": [
    {
     "data": {
      "image/png": "[encoded data removed]",
      "text/plain": [
       "<Figure size 432x288 with 1 Axes>"
      ]
     },
     "metadata": {
      "needs_background": "light"
     },
     "output_type": "display_data"
    }
   ],
   "source": [
    "import pandas as pd\n",
    "import numpy as np\n",
    "from sklearn.model_selection import train_test_split\n",
    "from sklearn.linear_model import LogisticRegression\n",
    "from sklearn import metrics\n",
    "import matplotlib.pyplot as plt\n",
    "\n",
    "#define metrics\n",
    "y_pred_proba = model.predict_proba(X_test)[::,1]\n",
    "fpr, tpr, _ = metrics.roc_curve(y_test,  y_pred_proba)\n",
    "auc = metrics.roc_auc_score(y_test, y_pred_proba)\n",
    "\n",
    "#create ROC curve\n",
    "plt.plot(fpr,tpr,label=\"AUC=\"+str(auc))\n",
    "plt.ylabel('True Positive Rate')\n",
    "plt.xlabel('False Positive Rate')\n",
    "plt.legend(loc=4)\n",
    "plt.show()"
   ]
  },
  {
   "cell_type": "code",
   "execution_count": 22,
   "id": "4109d529",
   "metadata": {},
   "outputs": [],
   "source": [
    "from imblearn.over_sampling import SMOTE\n",
    "\n",
    "sm = SMOTE(random_state = 2)\n",
    "X_train_res, y_train_res = sm.fit_resample(X_train, y_train.ravel())\n",
    "\n",
    "clf = LogisticRegression()\n",
    "model_res = clf.fit(X_train_res, y_train_res)"
   ]
  },
  {
   "cell_type": "code",
   "execution_count": 23,
   "id": "fc232fcc",
   "metadata": {},
   "outputs": [
    {
     "name": "stdout",
     "output_type": "stream",
     "text": [
      "Test accuracy 0.9565217391304348\n"
     ]
    }
   ],
   "source": [
    "print(f'Test accuracy {model_res.score(X_test,y_test)}')"
   ]
  },
  {
   "cell_type": "code",
   "execution_count": 24,
   "id": "05f3ef17",
   "metadata": {},
   "outputs": [
    {
     "name": "stdout",
     "output_type": "stream",
     "text": [
      "Original: (53, 5)\n",
      "With SMOTE: (54, 5)\n"
     ]
    }
   ],
   "source": [
    "print(f'Original: {X_train.shape}')\n",
    "print(f'With SMOTE: {X_train_res.shape}')"
   ]
  }
 ],
 "metadata": {
  "kernelspec": {
   "display_name": "Python 3 (ipykernel)",
   "language": "python",
   "name": "python3"
  },
  "language_info": {
   "codemirror_mode": {
    "name": "ipython",
    "version": 3
   },
   "file_extension": ".py",
   "mimetype": "text/x-python",
   "name": "python",
   "nbconvert_exporter": "python",
   "pygments_lexer": "ipython3",
   "version": "3.9.7"
  }
 },
 "nbformat": 4,
 "nbformat_minor": 5
}
