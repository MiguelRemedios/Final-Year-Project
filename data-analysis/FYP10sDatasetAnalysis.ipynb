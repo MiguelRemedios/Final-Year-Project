{
 "cells": [
  {
   "cell_type": "code",
   "execution_count": 1,
   "id": "5009046d",
   "metadata": {},
   "outputs": [],
   "source": [
    "import numpy as np \n",
    "import pandas as pd\n",
    "import matplotlib.pyplot as plt\n",
    "import seaborn as sns\n",
    "from collections import Counter"
   ]
  },
  {
   "cell_type": "code",
   "execution_count": 2,
   "id": "85a99cf3",
   "metadata": {},
   "outputs": [
    {
     "data": {
      "text/html": [
       "<div>\n",
       "<style scoped>\n",
       "    .dataframe tbody tr th:only-of-type {\n",
       "        vertical-align: middle;\n",
       "    }\n",
       "\n",
       "    .dataframe tbody tr th {\n",
       "        vertical-align: top;\n",
       "    }\n",
       "\n",
       "    .dataframe thead th {\n",
       "        text-align: right;\n",
       "    }\n",
       "</style>\n",
       "<table border=\"1\" class=\"dataframe\">\n",
       "  <thead>\n",
       "    <tr style=\"text-align: right;\">\n",
       "      <th></th>\n",
       "      <th>id</th>\n",
       "      <th>dom_pv</th>\n",
       "      <th>ks_kpt</th>\n",
       "      <th>md_bct</th>\n",
       "      <th>md_ct</th>\n",
       "      <th>md_cvt</th>\n",
       "      <th>user_status</th>\n",
       "    </tr>\n",
       "  </thead>\n",
       "  <tbody>\n",
       "    <tr>\n",
       "      <th>0</th>\n",
       "      <td>173</td>\n",
       "      <td>3</td>\n",
       "      <td>0</td>\n",
       "      <td>4</td>\n",
       "      <td>21</td>\n",
       "      <td>4</td>\n",
       "      <td>0</td>\n",
       "    </tr>\n",
       "    <tr>\n",
       "      <th>1</th>\n",
       "      <td>33</td>\n",
       "      <td>1</td>\n",
       "      <td>10</td>\n",
       "      <td>1</td>\n",
       "      <td>4</td>\n",
       "      <td>0</td>\n",
       "      <td>1</td>\n",
       "    </tr>\n",
       "    <tr>\n",
       "      <th>2</th>\n",
       "      <td>58</td>\n",
       "      <td>1</td>\n",
       "      <td>0</td>\n",
       "      <td>2</td>\n",
       "      <td>6</td>\n",
       "      <td>0</td>\n",
       "      <td>1</td>\n",
       "    </tr>\n",
       "    <tr>\n",
       "      <th>3</th>\n",
       "      <td>177</td>\n",
       "      <td>3</td>\n",
       "      <td>0</td>\n",
       "      <td>0</td>\n",
       "      <td>12</td>\n",
       "      <td>1</td>\n",
       "      <td>0</td>\n",
       "    </tr>\n",
       "    <tr>\n",
       "      <th>4</th>\n",
       "      <td>165</td>\n",
       "      <td>2</td>\n",
       "      <td>14</td>\n",
       "      <td>3</td>\n",
       "      <td>12</td>\n",
       "      <td>2</td>\n",
       "      <td>0</td>\n",
       "    </tr>\n",
       "  </tbody>\n",
       "</table>\n",
       "</div>"
      ],
      "text/plain": [
       "    id  dom_pv  ks_kpt  md_bct  md_ct  md_cvt  user_status\n",
       "0  173       3       0       4     21       4            0\n",
       "1   33       1      10       1      4       0            1\n",
       "2   58       1       0       2      6       0            1\n",
       "3  177       3       0       0     12       1            0\n",
       "4  165       2      14       3     12       2            0"
      ]
     },
     "execution_count": 2,
     "metadata": {},
     "output_type": "execute_result"
    }
   ],
   "source": [
    "dataset = pd.read_csv(\"dataset2.csv\")\n",
    "dataset.head()"
   ]
  },
  {
   "cell_type": "code",
   "execution_count": 3,
   "id": "23a99624",
   "metadata": {},
   "outputs": [
    {
     "name": "stdout",
     "output_type": "stream",
     "text": [
      "<class 'pandas.core.frame.DataFrame'>\n",
      "RangeIndex: 212 entries, 0 to 211\n",
      "Data columns (total 7 columns):\n",
      " #   Column       Non-Null Count  Dtype\n",
      "---  ------       --------------  -----\n",
      " 0   id           212 non-null    int64\n",
      " 1   dom_pv       212 non-null    int64\n",
      " 2   ks_kpt       212 non-null    int64\n",
      " 3   md_bct       212 non-null    int64\n",
      " 4   md_ct        212 non-null    int64\n",
      " 5   md_cvt       212 non-null    int64\n",
      " 6   user_status  212 non-null    int64\n",
      "dtypes: int64(7)\n",
      "memory usage: 11.7 KB\n"
     ]
    }
   ],
   "source": [
    "dataset.info()"
   ]
  },
  {
   "cell_type": "code",
   "execution_count": 4,
   "id": "f48c6575",
   "metadata": {},
   "outputs": [
    {
     "data": {
      "text/html": [
       "<div>\n",
       "<style scoped>\n",
       "    .dataframe tbody tr th:only-of-type {\n",
       "        vertical-align: middle;\n",
       "    }\n",
       "\n",
       "    .dataframe tbody tr th {\n",
       "        vertical-align: top;\n",
       "    }\n",
       "\n",
       "    .dataframe thead th {\n",
       "        text-align: right;\n",
       "    }\n",
       "</style>\n",
       "<table border=\"1\" class=\"dataframe\">\n",
       "  <thead>\n",
       "    <tr style=\"text-align: right;\">\n",
       "      <th></th>\n",
       "      <th>id</th>\n",
       "      <th>dom_pv</th>\n",
       "      <th>ks_kpt</th>\n",
       "      <th>md_bct</th>\n",
       "      <th>md_ct</th>\n",
       "      <th>md_cvt</th>\n",
       "      <th>user_status</th>\n",
       "    </tr>\n",
       "  </thead>\n",
       "  <tbody>\n",
       "    <tr>\n",
       "      <th>count</th>\n",
       "      <td>212.000000</td>\n",
       "      <td>212.000000</td>\n",
       "      <td>212.000000</td>\n",
       "      <td>212.000000</td>\n",
       "      <td>212.000000</td>\n",
       "      <td>212.000000</td>\n",
       "      <td>212.000000</td>\n",
       "    </tr>\n",
       "    <tr>\n",
       "      <th>mean</th>\n",
       "      <td>106.500000</td>\n",
       "      <td>1.500000</td>\n",
       "      <td>4.245283</td>\n",
       "      <td>1.834906</td>\n",
       "      <td>8.886792</td>\n",
       "      <td>1.169811</td>\n",
       "      <td>0.500000</td>\n",
       "    </tr>\n",
       "    <tr>\n",
       "      <th>std</th>\n",
       "      <td>61.343296</td>\n",
       "      <td>0.910705</td>\n",
       "      <td>7.118911</td>\n",
       "      <td>1.519575</td>\n",
       "      <td>4.793995</td>\n",
       "      <td>1.376662</td>\n",
       "      <td>0.501183</td>\n",
       "    </tr>\n",
       "    <tr>\n",
       "      <th>min</th>\n",
       "      <td>1.000000</td>\n",
       "      <td>0.000000</td>\n",
       "      <td>0.000000</td>\n",
       "      <td>0.000000</td>\n",
       "      <td>3.000000</td>\n",
       "      <td>0.000000</td>\n",
       "      <td>0.000000</td>\n",
       "    </tr>\n",
       "    <tr>\n",
       "      <th>25%</th>\n",
       "      <td>53.750000</td>\n",
       "      <td>1.000000</td>\n",
       "      <td>0.000000</td>\n",
       "      <td>1.000000</td>\n",
       "      <td>6.000000</td>\n",
       "      <td>0.000000</td>\n",
       "      <td>0.000000</td>\n",
       "    </tr>\n",
       "    <tr>\n",
       "      <th>50%</th>\n",
       "      <td>106.500000</td>\n",
       "      <td>1.000000</td>\n",
       "      <td>0.000000</td>\n",
       "      <td>2.000000</td>\n",
       "      <td>7.000000</td>\n",
       "      <td>1.000000</td>\n",
       "      <td>0.500000</td>\n",
       "    </tr>\n",
       "    <tr>\n",
       "      <th>75%</th>\n",
       "      <td>159.250000</td>\n",
       "      <td>2.000000</td>\n",
       "      <td>8.000000</td>\n",
       "      <td>3.000000</td>\n",
       "      <td>11.000000</td>\n",
       "      <td>2.000000</td>\n",
       "      <td>1.000000</td>\n",
       "    </tr>\n",
       "    <tr>\n",
       "      <th>max</th>\n",
       "      <td>212.000000</td>\n",
       "      <td>5.000000</td>\n",
       "      <td>37.000000</td>\n",
       "      <td>8.000000</td>\n",
       "      <td>33.000000</td>\n",
       "      <td>7.000000</td>\n",
       "      <td>1.000000</td>\n",
       "    </tr>\n",
       "  </tbody>\n",
       "</table>\n",
       "</div>"
      ],
      "text/plain": [
       "               id      dom_pv      ks_kpt      md_bct       md_ct      md_cvt  \\\n",
       "count  212.000000  212.000000  212.000000  212.000000  212.000000  212.000000   \n",
       "mean   106.500000    1.500000    4.245283    1.834906    8.886792    1.169811   \n",
       "std     61.343296    0.910705    7.118911    1.519575    4.793995    1.376662   \n",
       "min      1.000000    0.000000    0.000000    0.000000    3.000000    0.000000   \n",
       "25%     53.750000    1.000000    0.000000    1.000000    6.000000    0.000000   \n",
       "50%    106.500000    1.000000    0.000000    2.000000    7.000000    1.000000   \n",
       "75%    159.250000    2.000000    8.000000    3.000000   11.000000    2.000000   \n",
       "max    212.000000    5.000000   37.000000    8.000000   33.000000    7.000000   \n",
       "\n",
       "       user_status  \n",
       "count   212.000000  \n",
       "mean      0.500000  \n",
       "std       0.501183  \n",
       "min       0.000000  \n",
       "25%       0.000000  \n",
       "50%       0.500000  \n",
       "75%       1.000000  \n",
       "max       1.000000  "
      ]
     },
     "execution_count": 4,
     "metadata": {},
     "output_type": "execute_result"
    }
   ],
   "source": [
    "dataset.describe()"
   ]
  },
  {
   "cell_type": "code",
   "execution_count": 5,
   "id": "400eb42c",
   "metadata": {},
   "outputs": [
    {
     "data": {
      "text/plain": [
       "id             False\n",
       "dom_pv         False\n",
       "ks_kpt         False\n",
       "md_bct         False\n",
       "md_ct          False\n",
       "md_cvt         False\n",
       "user_status    False\n",
       "dtype: bool"
      ]
     },
     "execution_count": 5,
     "metadata": {},
     "output_type": "execute_result"
    }
   ],
   "source": [
    "dataset.isnull().all()"
   ]
  },
  {
   "cell_type": "code",
   "execution_count": 6,
   "id": "93b194d0",
   "metadata": {},
   "outputs": [
    {
     "data": {
      "text/html": [
       "<div>\n",
       "<style scoped>\n",
       "    .dataframe tbody tr th:only-of-type {\n",
       "        vertical-align: middle;\n",
       "    }\n",
       "\n",
       "    .dataframe tbody tr th {\n",
       "        vertical-align: top;\n",
       "    }\n",
       "\n",
       "    .dataframe thead th {\n",
       "        text-align: right;\n",
       "    }\n",
       "</style>\n",
       "<table border=\"1\" class=\"dataframe\">\n",
       "  <thead>\n",
       "    <tr style=\"text-align: right;\">\n",
       "      <th></th>\n",
       "      <th>id</th>\n",
       "      <th>dom_pv</th>\n",
       "      <th>ks_kpt</th>\n",
       "      <th>md_bct</th>\n",
       "      <th>md_ct</th>\n",
       "      <th>md_cvt</th>\n",
       "      <th>user_status</th>\n",
       "    </tr>\n",
       "  </thead>\n",
       "  <tbody>\n",
       "    <tr>\n",
       "      <th>id</th>\n",
       "      <td>1.000000</td>\n",
       "      <td>0.413144</td>\n",
       "      <td>0.279435</td>\n",
       "      <td>0.161959</td>\n",
       "      <td>0.569840</td>\n",
       "      <td>0.473154</td>\n",
       "      <td>-0.866035</td>\n",
       "    </tr>\n",
       "    <tr>\n",
       "      <th>dom_pv</th>\n",
       "      <td>0.413144</td>\n",
       "      <td>1.000000</td>\n",
       "      <td>-0.135238</td>\n",
       "      <td>0.087329</td>\n",
       "      <td>0.504772</td>\n",
       "      <td>0.211690</td>\n",
       "      <td>-0.446490</td>\n",
       "    </tr>\n",
       "    <tr>\n",
       "      <th>ks_kpt</th>\n",
       "      <td>0.279435</td>\n",
       "      <td>-0.135238</td>\n",
       "      <td>1.000000</td>\n",
       "      <td>-0.053193</td>\n",
       "      <td>0.176348</td>\n",
       "      <td>0.136454</td>\n",
       "      <td>-0.329427</td>\n",
       "    </tr>\n",
       "    <tr>\n",
       "      <th>md_bct</th>\n",
       "      <td>0.161959</td>\n",
       "      <td>0.087329</td>\n",
       "      <td>-0.053193</td>\n",
       "      <td>1.000000</td>\n",
       "      <td>0.510076</td>\n",
       "      <td>0.122210</td>\n",
       "      <td>-0.295592</td>\n",
       "    </tr>\n",
       "    <tr>\n",
       "      <th>md_ct</th>\n",
       "      <td>0.569840</td>\n",
       "      <td>0.504772</td>\n",
       "      <td>0.176348</td>\n",
       "      <td>0.510076</td>\n",
       "      <td>1.000000</td>\n",
       "      <td>0.649946</td>\n",
       "      <td>-0.682495</td>\n",
       "    </tr>\n",
       "    <tr>\n",
       "      <th>md_cvt</th>\n",
       "      <td>0.473154</td>\n",
       "      <td>0.211690</td>\n",
       "      <td>0.136454</td>\n",
       "      <td>0.122210</td>\n",
       "      <td>0.649946</td>\n",
       "      <td>1.000000</td>\n",
       "      <td>-0.549520</td>\n",
       "    </tr>\n",
       "    <tr>\n",
       "      <th>user_status</th>\n",
       "      <td>-0.866035</td>\n",
       "      <td>-0.446490</td>\n",
       "      <td>-0.329427</td>\n",
       "      <td>-0.295592</td>\n",
       "      <td>-0.682495</td>\n",
       "      <td>-0.549520</td>\n",
       "      <td>1.000000</td>\n",
       "    </tr>\n",
       "  </tbody>\n",
       "</table>\n",
       "</div>"
      ],
      "text/plain": [
       "                   id    dom_pv    ks_kpt    md_bct     md_ct    md_cvt  \\\n",
       "id           1.000000  0.413144  0.279435  0.161959  0.569840  0.473154   \n",
       "dom_pv       0.413144  1.000000 -0.135238  0.087329  0.504772  0.211690   \n",
       "ks_kpt       0.279435 -0.135238  1.000000 -0.053193  0.176348  0.136454   \n",
       "md_bct       0.161959  0.087329 -0.053193  1.000000  0.510076  0.122210   \n",
       "md_ct        0.569840  0.504772  0.176348  0.510076  1.000000  0.649946   \n",
       "md_cvt       0.473154  0.211690  0.136454  0.122210  0.649946  1.000000   \n",
       "user_status -0.866035 -0.446490 -0.329427 -0.295592 -0.682495 -0.549520   \n",
       "\n",
       "             user_status  \n",
       "id             -0.866035  \n",
       "dom_pv         -0.446490  \n",
       "ks_kpt         -0.329427  \n",
       "md_bct         -0.295592  \n",
       "md_ct          -0.682495  \n",
       "md_cvt         -0.549520  \n",
       "user_status     1.000000  "
      ]
     },
     "execution_count": 6,
     "metadata": {},
     "output_type": "execute_result"
    }
   ],
   "source": [
    "dataset.corr(method='pearson')"
   ]
  },
  {
   "cell_type": "code",
   "execution_count": 7,
   "id": "62b87716",
   "metadata": {},
   "outputs": [
    {
     "data": {
      "image/png": "[encoded data removed]",
      "text/plain": [
       "<Figure size 432x360 with 2 Axes>"
      ]
     },
     "metadata": {
      "needs_background": "light"
     },
     "output_type": "display_data"
    }
   ],
   "source": [
    "f,ax = plt.subplots(figsize=(6, 5))\n",
    "#Heatmap for labels\n",
    "sns.heatmap(dataset.corr(method='pearson'), annot=True, linewidths=0.5,linecolor=\"black\", fmt= '.2f',cmap='viridis',ax=ax)\n",
    "plt.show()"
   ]
  },
  {
   "cell_type": "code",
   "execution_count": 8,
   "id": "ed37c42e",
   "metadata": {},
   "outputs": [],
   "source": [
    "#preparing data\n",
    "# Removing User ID column and its data\n",
    "dataset.drop('id',axis = 1, inplace = True)"
   ]
  },
  {
   "cell_type": "code",
   "execution_count": 9,
   "id": "ffb442f8",
   "metadata": {},
   "outputs": [
    {
     "data": {
      "text/plain": [
       "<AxesSubplot:xlabel='md_bct', ylabel='user_status'>"
      ]
     },
     "execution_count": 9,
     "metadata": {},
     "output_type": "execute_result"
    },
    {
     "data": {
      "image/png": "[encoded data removed]",
      "text/plain": [
       "<Figure size 432x288 with 1 Axes>"
      ]
     },
     "metadata": {
      "needs_background": "light"
     },
     "output_type": "display_data"
    }
   ],
   "source": [
    "# set inputs and outputs\n",
    "#Dataset without correct dependent variable values\n",
    "X = dataset.drop('user_status',axis = 1)     \n",
    "#Dependent variable values\n",
    "y = dataset['user_status']\n",
    "sns.regplot(x=dataset[\"md_bct\"], y=y, data=dataset, logistic=True, ci=None)"
   ]
  },
  {
   "cell_type": "code",
   "execution_count": 10,
   "id": "03393237",
   "metadata": {},
   "outputs": [
    {
     "data": {
      "text/html": [
       "<div>\n",
       "<style scoped>\n",
       "    .dataframe tbody tr th:only-of-type {\n",
       "        vertical-align: middle;\n",
       "    }\n",
       "\n",
       "    .dataframe tbody tr th {\n",
       "        vertical-align: top;\n",
       "    }\n",
       "\n",
       "    .dataframe thead th {\n",
       "        text-align: right;\n",
       "    }\n",
       "</style>\n",
       "<table border=\"1\" class=\"dataframe\">\n",
       "  <thead>\n",
       "    <tr style=\"text-align: right;\">\n",
       "      <th></th>\n",
       "      <th>0</th>\n",
       "      <th>1</th>\n",
       "      <th>2</th>\n",
       "      <th>3</th>\n",
       "      <th>4</th>\n",
       "    </tr>\n",
       "  </thead>\n",
       "  <tbody>\n",
       "    <tr>\n",
       "      <th>0</th>\n",
       "      <td>1.650974</td>\n",
       "      <td>-0.597750</td>\n",
       "      <td>1.428175</td>\n",
       "      <td>2.532727</td>\n",
       "      <td>2.060700</td>\n",
       "    </tr>\n",
       "    <tr>\n",
       "      <th>1</th>\n",
       "      <td>-0.550325</td>\n",
       "      <td>0.810284</td>\n",
       "      <td>-0.550734</td>\n",
       "      <td>-1.021770</td>\n",
       "      <td>-0.851756</td>\n",
       "    </tr>\n",
       "    <tr>\n",
       "      <th>2</th>\n",
       "      <td>-0.550325</td>\n",
       "      <td>-0.597750</td>\n",
       "      <td>0.108902</td>\n",
       "      <td>-0.603594</td>\n",
       "      <td>-0.851756</td>\n",
       "    </tr>\n",
       "    <tr>\n",
       "      <th>3</th>\n",
       "      <td>1.650974</td>\n",
       "      <td>-0.597750</td>\n",
       "      <td>-1.210371</td>\n",
       "      <td>0.650934</td>\n",
       "      <td>-0.123642</td>\n",
       "    </tr>\n",
       "    <tr>\n",
       "      <th>4</th>\n",
       "      <td>0.550325</td>\n",
       "      <td>1.373497</td>\n",
       "      <td>0.768539</td>\n",
       "      <td>0.650934</td>\n",
       "      <td>0.604472</td>\n",
       "    </tr>\n",
       "  </tbody>\n",
       "</table>\n",
       "</div>"
      ],
      "text/plain": [
       "          0         1         2         3         4\n",
       "0  1.650974 -0.597750  1.428175  2.532727  2.060700\n",
       "1 -0.550325  0.810284 -0.550734 -1.021770 -0.851756\n",
       "2 -0.550325 -0.597750  0.108902 -0.603594 -0.851756\n",
       "3  1.650974 -0.597750 -1.210371  0.650934 -0.123642\n",
       "4  0.550325  1.373497  0.768539  0.650934  0.604472"
      ]
     },
     "execution_count": 10,
     "metadata": {},
     "output_type": "execute_result"
    }
   ],
   "source": [
    "# we have to scale the data for better result\n",
    "\n",
    "from sklearn.preprocessing import StandardScaler\n",
    "\n",
    "scaler = StandardScaler()\n",
    "data_scaled = scaler.fit_transform(X)\n",
    "data_scaled1 = pd.DataFrame(data_scaled)\n",
    "data_scaled1.head()"
   ]
  },
  {
   "cell_type": "code",
   "execution_count": 11,
   "id": "444ec9dc",
   "metadata": {},
   "outputs": [],
   "source": [
    "from sklearn.model_selection import train_test_split\n",
    "\n",
    "X_train,X_test,y_train,y_test = train_test_split(data_scaled,y,test_size=0.30,random_state=42)"
   ]
  },
  {
   "cell_type": "code",
   "execution_count": 12,
   "id": "31c3a2aa",
   "metadata": {},
   "outputs": [],
   "source": [
    "from sklearn.linear_model import LogisticRegression\n",
    "\n",
    "# LR model\n",
    "model = LogisticRegression(C=0.1,max_iter = 500)\n",
    "# LR model training\n",
    "model.fit(X_train,y_train)\n",
    "\n",
    "# LR testing/prediction\n",
    "y_pred = model.predict(X_test)"
   ]
  },
  {
   "cell_type": "code",
   "execution_count": 13,
   "id": "3f4e6d57",
   "metadata": {},
   "outputs": [
    {
     "name": "stdout",
     "output_type": "stream",
     "text": [
      "Weight Coefficient : [[-0.58184667 -0.60998992 -0.25756831 -1.05772947 -0.80284774]]\n",
      "Bias : [-0.37801078]\n"
     ]
    }
   ],
   "source": [
    "# y = B + W*x1...\n",
    "\n",
    "print(f'Weight Coefficient : {model.coef_}')\n",
    "print(f'Bias : {model.intercept_}')"
   ]
  },
  {
   "cell_type": "code",
   "execution_count": 14,
   "id": "f86efd69",
   "metadata": {},
   "outputs": [
    {
     "name": "stdout",
     "output_type": "stream",
     "text": [
      "Test accuracy: 0.90625\n",
      "Train accuracy: 0.9391891891891891\n"
     ]
    }
   ],
   "source": [
    "# Accuracy: The amount of correct classifications / the total amount of classifications.\n",
    "# The train accuracy: The accuracy of a model on examples it was constructed on.\n",
    "# The test accuracy is the accuracy of a model on examples it hasn't seen.\n",
    "print(f'Test accuracy: {model.score(X_test,y_test)}')\n",
    "print(f'Train accuracy: {model.score(X_train,y_train)}')"
   ]
  },
  {
   "cell_type": "code",
   "execution_count": 15,
   "id": "a3190433",
   "metadata": {},
   "outputs": [
    {
     "name": "stdout",
     "output_type": "stream",
     "text": [
      "              precision    recall  f1-score   support\n",
      "\n",
      "           0       0.89      0.89      0.89        27\n",
      "           1       0.92      0.92      0.92        37\n",
      "\n",
      "    accuracy                           0.91        64\n",
      "   macro avg       0.90      0.90      0.90        64\n",
      "weighted avg       0.91      0.91      0.91        64\n",
      "\n"
     ]
    }
   ],
   "source": [
    "from sklearn.metrics import classification_report\n",
    "\n",
    "print(classification_report(y_test, y_pred))"
   ]
  },
  {
   "cell_type": "code",
   "execution_count": 16,
   "id": "f65f419f",
   "metadata": {},
   "outputs": [
    {
     "data": {
      "text/html": [
       "<div>\n",
       "<style scoped>\n",
       "    .dataframe tbody tr th:only-of-type {\n",
       "        vertical-align: middle;\n",
       "    }\n",
       "\n",
       "    .dataframe tbody tr th {\n",
       "        vertical-align: top;\n",
       "    }\n",
       "\n",
       "    .dataframe thead th {\n",
       "        text-align: right;\n",
       "    }\n",
       "</style>\n",
       "<table border=\"1\" class=\"dataframe\">\n",
       "  <thead>\n",
       "    <tr style=\"text-align: right;\">\n",
       "      <th></th>\n",
       "      <th>Predicted Positive</th>\n",
       "      <th>Predicted Negative</th>\n",
       "    </tr>\n",
       "  </thead>\n",
       "  <tbody>\n",
       "    <tr>\n",
       "      <th>Actual Positive</th>\n",
       "      <td>24</td>\n",
       "      <td>3</td>\n",
       "    </tr>\n",
       "    <tr>\n",
       "      <th>Actual Negative</th>\n",
       "      <td>3</td>\n",
       "      <td>34</td>\n",
       "    </tr>\n",
       "  </tbody>\n",
       "</table>\n",
       "</div>"
      ],
      "text/plain": [
       "                 Predicted Positive  Predicted Negative\n",
       "Actual Positive                  24                   3\n",
       "Actual Negative                   3                  34"
      ]
     },
     "execution_count": 16,
     "metadata": {},
     "output_type": "execute_result"
    }
   ],
   "source": [
    "from sklearn.metrics import confusion_matrix\n",
    "\n",
    "df = pd.DataFrame(confusion_matrix(y_test, y_pred), columns = ['Predicted Positive', 'Predicted Negative'], \n",
    "                  index=['Actual Positive', 'Actual Negative'])\n",
    "df"
   ]
  },
  {
   "cell_type": "code",
   "execution_count": 17,
   "id": "6eecb0ad",
   "metadata": {},
   "outputs": [
    {
     "data": {
      "image/png": "[encoded data removed]",
      "text/plain": [
       "<Figure size 504x504 with 2 Axes>"
      ]
     },
     "metadata": {
      "needs_background": "light"
     },
     "output_type": "display_data"
    }
   ],
   "source": [
    "# We can visualize the confusion matrix\n",
    "import scikitplot.metrics as splt\n",
    "\n",
    "splt.plot_confusion_matrix(y_test,y_pred,figsize=(7,7))\n",
    "plt.show()"
   ]
  },
  {
   "cell_type": "code",
   "execution_count": 18,
   "id": "0c21a12f",
   "metadata": {},
   "outputs": [
    {
     "name": "stdout",
     "output_type": "stream",
     "text": [
      "Accuracy: 0.90625\n",
      "Precision: 0.918918918918919\n",
      "Recall: 0.918918918918919\n",
      "F1 Score: 0.918918918918919\n"
     ]
    }
   ],
   "source": [
    "from sklearn.metrics import accuracy_score, precision_score, recall_score, f1_score\n",
    "\n",
    "print(\"Accuracy:\", accuracy_score(y_test,y_pred))\n",
    "print(\"Precision:\", precision_score(y_test, y_pred, ))\n",
    "print(\"Recall:\", recall_score(y_test,y_pred))\n",
    "print(\"F1 Score:\", f1_score(y_test,y_pred))"
   ]
  },
  {
   "cell_type": "code",
   "execution_count": 19,
   "id": "530ce207",
   "metadata": {},
   "outputs": [
    {
     "data": {
      "image/png": "[encoded data removed]",
      "text/plain": [
       "<Figure size 432x288 with 1 Axes>"
      ]
     },
     "metadata": {
      "needs_background": "light"
     },
     "output_type": "display_data"
    }
   ],
   "source": [
    "# Area Under Curve - AUC\n",
    "import matplotlib.pyplot as plt\n",
    "from sklearn.metrics import roc_auc_score, roc_curve\n",
    "\n",
    "# An ROC curve (receiver operating characteristic curve) is a graph showing the performance of a classification model at all classification thresholds.\n",
    "model_roc_auc = roc_auc_score(y_test, model.predict(X_test))\n",
    "\n",
    "fpr, tpr, thresholds = roc_curve(y_test, model.predict_proba(X_test)[:,1])\n",
    "plt.figure()\n",
    "plt.plot(fpr, tpr, label='AUC (area = %0.2f)' % model_roc_auc)\n",
    "plt.plot([0, 1], [0, 1], 'r--')\n",
    "plt.xlim(([0.0, 1.0]))\n",
    "plt.ylim(([0.0, 1.05]))\n",
    "plt.xlabel('False Positive Rate')\n",
    "plt.ylabel('True Positive Rate')\n",
    "plt.title('ROC')\n",
    "plt.show()"
   ]
  },
  {
   "cell_type": "code",
   "execution_count": 20,
   "id": "e2c7efd6",
   "metadata": {},
   "outputs": [
    {
     "data": {
      "image/png": "[encoded data removed]",
      "text/plain": [
       "<Figure size 432x288 with 1 Axes>"
      ]
     },
     "metadata": {
      "needs_background": "light"
     },
     "output_type": "display_data"
    }
   ],
   "source": [
    "import pandas as pd\n",
    "import numpy as np\n",
    "from sklearn.model_selection import train_test_split\n",
    "from sklearn.linear_model import LogisticRegression\n",
    "from sklearn import metrics\n",
    "import matplotlib.pyplot as plt\n",
    "\n",
    "#define metrics\n",
    "y_pred_proba = model.predict_proba(X_test)[::,1]\n",
    "fpr, tpr, _ = metrics.roc_curve(y_test,  y_pred_proba)\n",
    "auc = metrics.roc_auc_score(y_test, y_pred_proba)\n",
    "\n",
    "#create ROC curve\n",
    "plt.plot(fpr,tpr,label=\"AUC=\"+str(auc))\n",
    "plt.ylabel('True Positive Rate')\n",
    "plt.xlabel('False Positive Rate')\n",
    "plt.legend(loc=4)\n",
    "plt.show()"
   ]
  },
  {
   "cell_type": "code",
   "execution_count": 21,
   "id": "4109d529",
   "metadata": {},
   "outputs": [],
   "source": [
    "from imblearn.over_sampling import SMOTE\n",
    "\n",
    "sm = SMOTE(random_state = 2)\n",
    "X_train_res, y_train_res = sm.fit_resample(X_train, y_train.ravel())\n",
    "\n",
    "clf = LogisticRegression()\n",
    "model_res = clf.fit(X_train_res, y_train_res)"
   ]
  },
  {
   "cell_type": "code",
   "execution_count": 22,
   "id": "fc232fcc",
   "metadata": {},
   "outputs": [
    {
     "name": "stdout",
     "output_type": "stream",
     "text": [
      "Test accuracy 0.90625\n"
     ]
    }
   ],
   "source": [
    "print(f'Test accuracy {model_res.score(X_test,y_test)}')"
   ]
  },
  {
   "cell_type": "code",
   "execution_count": 23,
   "id": "05f3ef17",
   "metadata": {},
   "outputs": [
    {
     "name": "stdout",
     "output_type": "stream",
     "text": [
      "Original: (148, 5)\n",
      "With SMOTE: (158, 5)\n"
     ]
    }
   ],
   "source": [
    "print(f'Original: {X_train.shape}')\n",
    "print(f'With SMOTE: {X_train_res.shape}')"
   ]
  }
 ],
 "metadata": {
  "kernelspec": {
   "display_name": "Python 3 (ipykernel)",
   "language": "python",
   "name": "python3"
  },
  "language_info": {
   "codemirror_mode": {
    "name": "ipython",
    "version": 3
   },
   "file_extension": ".py",
   "mimetype": "text/x-python",
   "name": "python",
   "nbconvert_exporter": "python",
   "pygments_lexer": "ipython3",
   "version": "3.9.7"
  }
 },
 "nbformat": 4,
 "nbformat_minor": 5
}
